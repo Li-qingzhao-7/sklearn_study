{
 "cells": [
  {
   "cell_type": "code",
   "execution_count": 77,
   "metadata": {},
   "outputs": [],
   "source": [
    "import numpy as np\n",
    "import pandas as pd\n",
    "import matplotlib.pyplot as plt"
   ]
  },
  {
   "cell_type": "code",
   "execution_count": 78,
   "metadata": {},
   "outputs": [],
   "source": [
    "# 加载数据集\n",
    "data_url = \"http://lib.stat.cmu.edu/datasets/boston\"\n",
    "raw_df = pd.read_csv(data_url, sep=\"\\s+\", skiprows=22, header=None)\n",
    "old_data = np.hstack([raw_df.values[::2, :], raw_df.values[1::2, :2]])\n",
    "target = raw_df.values[1::2, 2] # 归一化和特征构造后都没有变化\n",
    "# print(\"Data shape: {}\".format(old_data.shape))\n"
   ]
  },
  {
   "cell_type": "code",
   "execution_count": 79,
   "metadata": {},
   "outputs": [],
   "source": [
    "feature_names=['CRIM', 'ZN', 'INDUS', 'CHAS', 'NOX', 'RM', 'AGE', 'DIS', 'RAD', 'TAX', 'PTRATIO', 'B', 'LSTAT']"
   ]
  },
  {
   "cell_type": "code",
   "execution_count": 80,
   "metadata": {},
   "outputs": [],
   "source": [
    "data = pd.DataFrame(old_data,columns=feature_names)\n",
    "data['TARGET'] = target"
   ]
  },
  {
   "cell_type": "code",
   "execution_count": 81,
   "metadata": {},
   "outputs": [
    {
     "data": {
      "text/html": [
       "<div>\n",
       "<style scoped>\n",
       "    .dataframe tbody tr th:only-of-type {\n",
       "        vertical-align: middle;\n",
       "    }\n",
       "\n",
       "    .dataframe tbody tr th {\n",
       "        vertical-align: top;\n",
       "    }\n",
       "\n",
       "    .dataframe thead th {\n",
       "        text-align: right;\n",
       "    }\n",
       "</style>\n",
       "<table border=\"1\" class=\"dataframe\">\n",
       "  <thead>\n",
       "    <tr style=\"text-align: right;\">\n",
       "      <th></th>\n",
       "      <th>CRIM</th>\n",
       "      <th>ZN</th>\n",
       "      <th>INDUS</th>\n",
       "      <th>CHAS</th>\n",
       "      <th>NOX</th>\n",
       "      <th>RM</th>\n",
       "      <th>AGE</th>\n",
       "      <th>DIS</th>\n",
       "      <th>RAD</th>\n",
       "      <th>TAX</th>\n",
       "      <th>PTRATIO</th>\n",
       "      <th>B</th>\n",
       "      <th>LSTAT</th>\n",
       "      <th>TARGET</th>\n",
       "    </tr>\n",
       "  </thead>\n",
       "  <tbody>\n",
       "    <tr>\n",
       "      <th>0</th>\n",
       "      <td>0.00632</td>\n",
       "      <td>18.0</td>\n",
       "      <td>2.31</td>\n",
       "      <td>0.0</td>\n",
       "      <td>0.538</td>\n",
       "      <td>6.575</td>\n",
       "      <td>65.2</td>\n",
       "      <td>4.0900</td>\n",
       "      <td>1.0</td>\n",
       "      <td>296.0</td>\n",
       "      <td>15.3</td>\n",
       "      <td>396.90</td>\n",
       "      <td>4.98</td>\n",
       "      <td>24.0</td>\n",
       "    </tr>\n",
       "    <tr>\n",
       "      <th>1</th>\n",
       "      <td>0.02731</td>\n",
       "      <td>0.0</td>\n",
       "      <td>7.07</td>\n",
       "      <td>0.0</td>\n",
       "      <td>0.469</td>\n",
       "      <td>6.421</td>\n",
       "      <td>78.9</td>\n",
       "      <td>4.9671</td>\n",
       "      <td>2.0</td>\n",
       "      <td>242.0</td>\n",
       "      <td>17.8</td>\n",
       "      <td>396.90</td>\n",
       "      <td>9.14</td>\n",
       "      <td>21.6</td>\n",
       "    </tr>\n",
       "    <tr>\n",
       "      <th>2</th>\n",
       "      <td>0.02729</td>\n",
       "      <td>0.0</td>\n",
       "      <td>7.07</td>\n",
       "      <td>0.0</td>\n",
       "      <td>0.469</td>\n",
       "      <td>7.185</td>\n",
       "      <td>61.1</td>\n",
       "      <td>4.9671</td>\n",
       "      <td>2.0</td>\n",
       "      <td>242.0</td>\n",
       "      <td>17.8</td>\n",
       "      <td>392.83</td>\n",
       "      <td>4.03</td>\n",
       "      <td>34.7</td>\n",
       "    </tr>\n",
       "    <tr>\n",
       "      <th>3</th>\n",
       "      <td>0.03237</td>\n",
       "      <td>0.0</td>\n",
       "      <td>2.18</td>\n",
       "      <td>0.0</td>\n",
       "      <td>0.458</td>\n",
       "      <td>6.998</td>\n",
       "      <td>45.8</td>\n",
       "      <td>6.0622</td>\n",
       "      <td>3.0</td>\n",
       "      <td>222.0</td>\n",
       "      <td>18.7</td>\n",
       "      <td>394.63</td>\n",
       "      <td>2.94</td>\n",
       "      <td>33.4</td>\n",
       "    </tr>\n",
       "    <tr>\n",
       "      <th>4</th>\n",
       "      <td>0.06905</td>\n",
       "      <td>0.0</td>\n",
       "      <td>2.18</td>\n",
       "      <td>0.0</td>\n",
       "      <td>0.458</td>\n",
       "      <td>7.147</td>\n",
       "      <td>54.2</td>\n",
       "      <td>6.0622</td>\n",
       "      <td>3.0</td>\n",
       "      <td>222.0</td>\n",
       "      <td>18.7</td>\n",
       "      <td>396.90</td>\n",
       "      <td>5.33</td>\n",
       "      <td>36.2</td>\n",
       "    </tr>\n",
       "    <tr>\n",
       "      <th>...</th>\n",
       "      <td>...</td>\n",
       "      <td>...</td>\n",
       "      <td>...</td>\n",
       "      <td>...</td>\n",
       "      <td>...</td>\n",
       "      <td>...</td>\n",
       "      <td>...</td>\n",
       "      <td>...</td>\n",
       "      <td>...</td>\n",
       "      <td>...</td>\n",
       "      <td>...</td>\n",
       "      <td>...</td>\n",
       "      <td>...</td>\n",
       "      <td>...</td>\n",
       "    </tr>\n",
       "    <tr>\n",
       "      <th>501</th>\n",
       "      <td>0.06263</td>\n",
       "      <td>0.0</td>\n",
       "      <td>11.93</td>\n",
       "      <td>0.0</td>\n",
       "      <td>0.573</td>\n",
       "      <td>6.593</td>\n",
       "      <td>69.1</td>\n",
       "      <td>2.4786</td>\n",
       "      <td>1.0</td>\n",
       "      <td>273.0</td>\n",
       "      <td>21.0</td>\n",
       "      <td>391.99</td>\n",
       "      <td>9.67</td>\n",
       "      <td>22.4</td>\n",
       "    </tr>\n",
       "    <tr>\n",
       "      <th>502</th>\n",
       "      <td>0.04527</td>\n",
       "      <td>0.0</td>\n",
       "      <td>11.93</td>\n",
       "      <td>0.0</td>\n",
       "      <td>0.573</td>\n",
       "      <td>6.120</td>\n",
       "      <td>76.7</td>\n",
       "      <td>2.2875</td>\n",
       "      <td>1.0</td>\n",
       "      <td>273.0</td>\n",
       "      <td>21.0</td>\n",
       "      <td>396.90</td>\n",
       "      <td>9.08</td>\n",
       "      <td>20.6</td>\n",
       "    </tr>\n",
       "    <tr>\n",
       "      <th>503</th>\n",
       "      <td>0.06076</td>\n",
       "      <td>0.0</td>\n",
       "      <td>11.93</td>\n",
       "      <td>0.0</td>\n",
       "      <td>0.573</td>\n",
       "      <td>6.976</td>\n",
       "      <td>91.0</td>\n",
       "      <td>2.1675</td>\n",
       "      <td>1.0</td>\n",
       "      <td>273.0</td>\n",
       "      <td>21.0</td>\n",
       "      <td>396.90</td>\n",
       "      <td>5.64</td>\n",
       "      <td>23.9</td>\n",
       "    </tr>\n",
       "    <tr>\n",
       "      <th>504</th>\n",
       "      <td>0.10959</td>\n",
       "      <td>0.0</td>\n",
       "      <td>11.93</td>\n",
       "      <td>0.0</td>\n",
       "      <td>0.573</td>\n",
       "      <td>6.794</td>\n",
       "      <td>89.3</td>\n",
       "      <td>2.3889</td>\n",
       "      <td>1.0</td>\n",
       "      <td>273.0</td>\n",
       "      <td>21.0</td>\n",
       "      <td>393.45</td>\n",
       "      <td>6.48</td>\n",
       "      <td>22.0</td>\n",
       "    </tr>\n",
       "    <tr>\n",
       "      <th>505</th>\n",
       "      <td>0.04741</td>\n",
       "      <td>0.0</td>\n",
       "      <td>11.93</td>\n",
       "      <td>0.0</td>\n",
       "      <td>0.573</td>\n",
       "      <td>6.030</td>\n",
       "      <td>80.8</td>\n",
       "      <td>2.5050</td>\n",
       "      <td>1.0</td>\n",
       "      <td>273.0</td>\n",
       "      <td>21.0</td>\n",
       "      <td>396.90</td>\n",
       "      <td>7.88</td>\n",
       "      <td>11.9</td>\n",
       "    </tr>\n",
       "  </tbody>\n",
       "</table>\n",
       "<p>506 rows × 14 columns</p>\n",
       "</div>"
      ],
      "text/plain": [
       "        CRIM    ZN  INDUS  CHAS    NOX     RM   AGE     DIS  RAD    TAX  \\\n",
       "0    0.00632  18.0   2.31   0.0  0.538  6.575  65.2  4.0900  1.0  296.0   \n",
       "1    0.02731   0.0   7.07   0.0  0.469  6.421  78.9  4.9671  2.0  242.0   \n",
       "2    0.02729   0.0   7.07   0.0  0.469  7.185  61.1  4.9671  2.0  242.0   \n",
       "3    0.03237   0.0   2.18   0.0  0.458  6.998  45.8  6.0622  3.0  222.0   \n",
       "4    0.06905   0.0   2.18   0.0  0.458  7.147  54.2  6.0622  3.0  222.0   \n",
       "..       ...   ...    ...   ...    ...    ...   ...     ...  ...    ...   \n",
       "501  0.06263   0.0  11.93   0.0  0.573  6.593  69.1  2.4786  1.0  273.0   \n",
       "502  0.04527   0.0  11.93   0.0  0.573  6.120  76.7  2.2875  1.0  273.0   \n",
       "503  0.06076   0.0  11.93   0.0  0.573  6.976  91.0  2.1675  1.0  273.0   \n",
       "504  0.10959   0.0  11.93   0.0  0.573  6.794  89.3  2.3889  1.0  273.0   \n",
       "505  0.04741   0.0  11.93   0.0  0.573  6.030  80.8  2.5050  1.0  273.0   \n",
       "\n",
       "     PTRATIO       B  LSTAT  TARGET  \n",
       "0       15.3  396.90   4.98    24.0  \n",
       "1       17.8  396.90   9.14    21.6  \n",
       "2       17.8  392.83   4.03    34.7  \n",
       "3       18.7  394.63   2.94    33.4  \n",
       "4       18.7  396.90   5.33    36.2  \n",
       "..       ...     ...    ...     ...  \n",
       "501     21.0  391.99   9.67    22.4  \n",
       "502     21.0  396.90   9.08    20.6  \n",
       "503     21.0  396.90   5.64    23.9  \n",
       "504     21.0  393.45   6.48    22.0  \n",
       "505     21.0  396.90   7.88    11.9  \n",
       "\n",
       "[506 rows x 14 columns]"
      ]
     },
     "execution_count": 81,
     "metadata": {},
     "output_type": "execute_result"
    }
   ],
   "source": [
    "data"
   ]
  },
  {
   "cell_type": "code",
   "execution_count": 82,
   "metadata": {},
   "outputs": [
    {
     "data": {
      "text/html": [
       "<div>\n",
       "<style scoped>\n",
       "    .dataframe tbody tr th:only-of-type {\n",
       "        vertical-align: middle;\n",
       "    }\n",
       "\n",
       "    .dataframe tbody tr th {\n",
       "        vertical-align: top;\n",
       "    }\n",
       "\n",
       "    .dataframe thead th {\n",
       "        text-align: right;\n",
       "    }\n",
       "</style>\n",
       "<table border=\"1\" class=\"dataframe\">\n",
       "  <thead>\n",
       "    <tr style=\"text-align: right;\">\n",
       "      <th></th>\n",
       "      <th>TARGET</th>\n",
       "    </tr>\n",
       "    <tr>\n",
       "      <th>CHAS</th>\n",
       "      <th></th>\n",
       "    </tr>\n",
       "  </thead>\n",
       "  <tbody>\n",
       "    <tr>\n",
       "      <th>0.0</th>\n",
       "      <td>22.093843</td>\n",
       "    </tr>\n",
       "    <tr>\n",
       "      <th>1.0</th>\n",
       "      <td>28.440000</td>\n",
       "    </tr>\n",
       "  </tbody>\n",
       "</table>\n",
       "</div>"
      ],
      "text/plain": [
       "         TARGET\n",
       "CHAS           \n",
       "0.0   22.093843\n",
       "1.0   28.440000"
      ]
     },
     "execution_count": 82,
     "metadata": {},
     "output_type": "execute_result"
    }
   ],
   "source": [
    "# 查看靠河影响,透视表\n",
    "data.pivot_table(index='CHAS',values=['TARGET'])"
   ]
  },
  {
   "cell_type": "code",
   "execution_count": 83,
   "metadata": {},
   "outputs": [
    {
     "data": {
      "image/png": "[encoded data removed]",
      "text/plain": [
       "<Figure size 640x480 with 1 Axes>"
      ]
     },
     "metadata": {},
     "output_type": "display_data"
    }
   ],
   "source": [
    "# 查看RM与目标值的关系\n",
    "# 如果想使用一组数据训练线性模型，需要先查看这组特征与输出间关系是否是线性关系\n",
    "data.plot.scatter(x='RM',y=['TARGET'])\n",
    "plt.show()"
   ]
  },
  {
   "cell_type": "code",
   "execution_count": 84,
   "metadata": {},
   "outputs": [
    {
     "data": {
      "image/png": "[encoded data removed]",
      "text/plain": [
       "<Figure size 640x480 with 1 Axes>"
      ]
     },
     "metadata": {},
     "output_type": "display_data"
    }
   ],
   "source": [
    "data.plot.scatter(x='DIS',y=['TARGET'])  # 离市中心距离\n",
    "plt.show()"
   ]
  },
  {
   "cell_type": "code",
   "execution_count": 85,
   "metadata": {},
   "outputs": [
    {
     "data": {
      "image/png": "[encoded data removed]",
      "text/plain": [
       "<Figure size 640x480 with 1 Axes>"
      ]
     },
     "metadata": {},
     "output_type": "display_data"
    }
   ],
   "source": [
    "data.plot.scatter(x='NOX',y=['TARGET'])  # 空气质量\n",
    "plt.show()"
   ]
  },
  {
   "cell_type": "code",
   "execution_count": 86,
   "metadata": {},
   "outputs": [
    {
     "data": {
      "text/plain": [
       "0.7657465943591124"
      ]
     },
     "execution_count": 86,
     "metadata": {},
     "output_type": "execute_result"
    }
   ],
   "source": [
    "import sklearn.model_selection as ms  # 拆分测试集，训练集\n",
    "import sklearn.linear_model as lm  # 线性回归模块\n",
    "import sklearn.metrics as sm  # 评估模块\n",
    "# 整理输入输出集\n",
    "x, y =data.iloc[:,:-1], data['TARGET']\n",
    "\n",
    "# 拆分测试集训练集\n",
    "train_x, test_x, train_y, test_y = ms.train_test_split(x, y, test_size=0.2, random_state=22)\n",
    "\n",
    "# 训练模型\n",
    "model = lm.LinearRegression()\n",
    "model.fit(train_x, train_y)\n",
    "\n",
    "# 评估\n",
    "pred_y = model.predict(test_x)\n",
    "sm.r2_score(test_y,pred_y)"
   ]
  },
  {
   "attachments": {},
   "cell_type": "markdown",
   "metadata": {},
   "source": [
    "**岭回归**"
   ]
  },
  {
   "cell_type": "code",
   "execution_count": 87,
   "metadata": {},
   "outputs": [
    {
     "name": "stdout",
     "output_type": "stream",
     "text": [
      "0.7941144753631537\n"
     ]
    }
   ],
   "source": [
    "import sklearn.linear_model as lm\n",
    "# 创建模型\n",
    "\n",
    "# for i in range(1,1000):\n",
    "model = lm.Ridge(0.01, fit_intercept=True, max_iter=1)  # 默认-1    \n",
    "# 训练模型\n",
    "# 输入为一个二维数组表示的样本矩阵\n",
    "# 输出为每个样本最终的结果\n",
    "model.fit(x, y)\n",
    "\n",
    "# 预测输出\n",
    "# 输入array是一个二维数组\n",
    "rid_pred_y = model.predict(test_x)\n",
    "print(sm.r2_score(test_y,rid_pred_y))"
   ]
  },
  {
   "attachments": {},
   "cell_type": "markdown",
   "metadata": {},
   "source": [
    "**多项式回归**"
   ]
  },
  {
   "cell_type": "code",
   "execution_count": 88,
   "metadata": {},
   "outputs": [
    {
     "name": "stdout",
     "output_type": "stream",
     "text": [
      "0.9465113657031128\n"
     ]
    }
   ],
   "source": [
    "# 使用sklearn提供的 数据管线 实现多项式回归\n",
    "\n",
    "import sklearn.pipeline as pl\n",
    "import sklearn.preprocessing as sp\n",
    "import sklearn.linear_model as lm\n",
    "\n",
    "# for i in range(1,1000):\n",
    "model = pl.make_pipeline(\n",
    "    sp.PolynomialFeatures(2),  # 多项式特征扩展器\n",
    "    lm.LinearRegression()  # 线性回归器\n",
    ")\n",
    "\n",
    "model.fit(x, y)\n",
    "\n",
    "# 预测输出\n",
    "# 输入array是一个二维数组\n",
    "pipe_pred_y = model.predict(test_x)\n",
    "print(sm.r2_score(test_y,pipe_pred_y))"
   ]
  },
  {
   "attachments": {},
   "cell_type": "markdown",
   "metadata": {},
   "source": [
    "**决策树**"
   ]
  },
  {
   "cell_type": "code",
   "execution_count": 89,
   "metadata": {},
   "outputs": [
    {
     "name": "stdout",
     "output_type": "stream",
     "text": [
      "0.8036282177347948\n",
      "CRIM 0.011774626165027524\n",
      "ZN 8.47676091076777e-05\n",
      "INDUS 0.0031794468380113633\n",
      "CHAS 0.0\n",
      "NOX 0.02552824260244346\n",
      "RM 0.282847470773951\n",
      "AGE 0.0031503582090011742\n",
      "DIS 0.08633470760443122\n",
      "RAD 5.5208212173511866e-06\n",
      "TAX 0.00812930904659372\n",
      "PTRATIO 0.014370999835308537\n",
      "B 0.003152148816254025\n",
      "LSTAT 0.5614424016786529\n"
     ]
    },
    {
     "data": {
      "image/png": "[encoded data removed]",
      "text/plain": [
       "<Figure size 640x480 with 1 Axes>"
      ]
     },
     "metadata": {},
     "output_type": "display_data"
    }
   ],
   "source": [
    "import sklearn.tree as st\n",
    "# 训练模型\n",
    "model = st.DecisionTreeRegressor(max_depth=7)\n",
    "model.fit(train_x,train_y)\n",
    "\n",
    "pred_tree_y = model.predict(test_x)\n",
    "print(sm.r2_score(test_y,pred_tree_y))\n",
    "\n",
    "# 单棵决策树的特征重要性\n",
    "feat_imp=model.feature_importances_\n",
    "      \n",
    "feat_names=model.feature_names_in_\n",
    "\n",
    "# 查看对应特征的重要性\n",
    "for a,b in zip(model.feature_names_in_,model.feature_importances_):\n",
    "    print(a,b)\n",
    "    \n",
    "    \n",
    "plt.bar(feat_names,feat_imp)\n",
    "plt.show()"
   ]
  },
  {
   "attachments": {},
   "cell_type": "markdown",
   "metadata": {},
   "source": [
    "**AdaBoost -- 集合模型**"
   ]
  },
  {
   "cell_type": "code",
   "execution_count": 90,
   "metadata": {},
   "outputs": [
    {
     "name": "stdout",
     "output_type": "stream",
     "text": [
      "0.8004340070177617\n",
      "CRIM 0.03079214670968416\n",
      "ZN 0.0012906008133627374\n",
      "INDUS 0.005897599945381919\n",
      "CHAS 0.0007641141239790425\n",
      "NOX 0.0278082718642313\n",
      "RM 0.2634902914831679\n",
      "AGE 0.020877342239983478\n",
      "DIS 0.10661996851868838\n",
      "RAD 0.004589635214155426\n",
      "TAX 0.020177325223057367\n",
      "PTRATIO 0.017201223486794783\n",
      "B 0.01385306899202036\n",
      "LSTAT 0.486638411385493\n"
     ]
    },
    {
     "data": {
      "image/png": "[encoded data removed]",
      "text/plain": [
       "<Figure size 640x480 with 1 Axes>"
      ]
     },
     "metadata": {},
     "output_type": "display_data"
    }
   ],
   "source": [
    "import sklearn.ensemble as se\n",
    "# 构建一颗决策树\n",
    "model = st.DecisionTreeRegressor(max_depth=7)\n",
    "# 自适应增强决策树回归模型\n",
    "# n_estimators：构建不同权重决策树的数量\n",
    "model=se.AdaBoostRegressor(model,n_estimators=400,random_state=22)\n",
    "# 训练模型\n",
    "model.fit(train_x,train_y)\n",
    "# 测试模型\n",
    "pred_ada_y = model.predict(test_x)\n",
    "# 评估\n",
    "print(sm.r2_score(test_y,pred_ada_y))\n",
    "\n",
    "# 多棵决策树的特征重要性\n",
    "model.feature_importances_\n",
    "\n",
    "# 多棵决策树的特征重要性\n",
    "feat_imp=model.feature_importances_\n",
    "      \n",
    "feat_names=model.feature_names_in_\n",
    "\n",
    "# 查看对应特征的重要性\n",
    "for a,b in zip(model.feature_names_in_,model.feature_importances_):\n",
    "    print(a,b)\n",
    "    \n",
    "    \n",
    "plt.bar(feat_names,feat_imp)\n",
    "plt.show()"
   ]
  },
  {
   "attachments": {},
   "cell_type": "markdown",
   "metadata": {},
   "source": [
    "**测试特征重要性**"
   ]
  },
  {
   "cell_type": "code",
   "execution_count": 91,
   "metadata": {},
   "outputs": [
    {
     "data": {
      "text/plain": [
       "array([0.03079215, 0.0012906 , 0.0058976 , 0.00076411, 0.02780827,\n",
       "       0.26349029, 0.02087734, 0.10661997, 0.00458964, 0.02017733,\n",
       "       0.01720122, 0.01385307, 0.48663841])"
      ]
     },
     "execution_count": 91,
     "metadata": {},
     "output_type": "execute_result"
    }
   ],
   "source": [
    "# 特征重要性\n",
    "# 决策树划分子表时所使用的特征先后顺序标志了对应特征的重要程度\n",
    "model.feature_importances_"
   ]
  },
  {
   "attachments": {},
   "cell_type": "markdown",
   "metadata": {},
   "source": [
    "**GBDT**"
   ]
  },
  {
   "cell_type": "code",
   "execution_count": 92,
   "metadata": {},
   "outputs": [
    {
     "name": "stdout",
     "output_type": "stream",
     "text": [
      "a:5\tb:3\t-->0.8004340070177617\n",
      "a:5\tb:5\t-->0.8004340070177617\n",
      "a:5\tb:7\t-->0.8004340070177617\n",
      "a:5\tb:9\t-->0.8004340070177617\n",
      "a:6\tb:3\t-->0.8004340070177617\n",
      "a:6\tb:5\t-->0.8004340070177617\n",
      "a:6\tb:7\t-->0.8004340070177617\n",
      "a:6\tb:9\t-->0.8004340070177617\n",
      "a:7\tb:3\t-->0.8004340070177617\n",
      "a:7\tb:5\t-->0.8004340070177617\n",
      "a:7\tb:7\t-->0.8004340070177617\n",
      "a:7\tb:9\t-->0.8004340070177617\n",
      "a:8\tb:3\t-->0.8004340070177617\n",
      "a:8\tb:5\t-->0.8004340070177617\n",
      "a:8\tb:7\t-->0.8004340070177617\n",
      "a:8\tb:9\t-->0.8004340070177617\n",
      "a:9\tb:3\t-->0.8004340070177617\n",
      "a:9\tb:5\t-->0.8004340070177617\n",
      "a:9\tb:7\t-->0.8004340070177617\n",
      "a:9\tb:9\t-->0.8004340070177617\n"
     ]
    }
   ],
   "source": [
    "params_a = [5,6,7,8,9]\n",
    "params_b = [3,5,7,9]\n",
    "\n",
    "for a in params_a:\n",
    "    for b in params_b:\n",
    "        se.GradientBoostingRegressor(max_depth=a, \n",
    "                                    n_estimators=10,   # 弱模型数量，评估器\n",
    "                                    random_state=22, \n",
    "                                    min_samples_split=b)  # 样本最小拆分数，若叶子结点样本数量小于该值，则不再拆分\n",
    "        model.fit(train_x, train_y)\n",
    "        pred_gbdt_y = model.predict(test_x)\n",
    "        c = sm.r2_score(test_y,pred_gbdt_y)\n",
    "        print('a:{}\\tb:{}\\t-->{}'.format(a,b,c))"
   ]
  },
  {
   "attachments": {},
   "cell_type": "markdown",
   "metadata": {},
   "source": [
    "**随机森林**"
   ]
  },
  {
   "cell_type": "code",
   "execution_count": 96,
   "metadata": {},
   "outputs": [
    {
     "name": "stdout",
     "output_type": "stream",
     "text": [
      "0.8246833497808611\n"
     ]
    }
   ],
   "source": [
    "# 随机森林相关API\n",
    "import sklearn.ensemble as se\n",
    "# 随机森林回归模型（属于集合算法）\n",
    "model = se.RandomForestRegressor(max_depth=9,\n",
    "                                 n_estimators=100,\n",
    "                                 min_samples_split=2)\n",
    "\n",
    "model.fit(train_x, train_y)\n",
    "pred_test_y = model.predict(test_x)\n",
    "print(sm.r2_score(test_y, pred_test_y))"
   ]
  }
 ],
 "metadata": {
  "kernelspec": {
   "display_name": "base",
   "language": "python",
   "name": "python3"
  },
  "language_info": {
   "codemirror_mode": {
    "name": "ipython",
    "version": 3
   },
   "file_extension": ".py",
   "mimetype": "text/x-python",
   "name": "python",
   "nbconvert_exporter": "python",
   "pygments_lexer": "ipython3",
   "version": "3.10.8"
  },
  "orig_nbformat": 4,
  "vscode": {
   "interpreter": {
    "hash": "fd16a1c2e981052eaae61151b9525ae9913f1f0d16bca6b7e7be9e0f29d739d2"
   }
  }
 },
 "nbformat": 4,
 "nbformat_minor": 2
}
