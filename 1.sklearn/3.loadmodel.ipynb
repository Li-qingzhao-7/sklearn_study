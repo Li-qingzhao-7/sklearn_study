{
 "cells": [
  {
   "attachments": {},
   "cell_type": "markdown",
   "metadata": {},
   "source": [
    "**load_model加载模型**"
   ]
  },
  {
   "cell_type": "code",
   "execution_count": null,
   "metadata": {},
   "outputs": [],
   "source": [
    "import numpy as np\n",
    "import pandas as pd\n",
    "import pickle"
   ]
  },
  {
   "cell_type": "code",
   "execution_count": null,
   "metadata": {},
   "outputs": [],
   "source": [
    "class SalaryPredictionModel(object):\n",
    "    \n",
    "    def __init__(self):\n",
    "        with open('model.pickle','rb') as f:\n",
    "            self.model = pickle.load(f)\n",
    "            \n",
    "    def predict(self,exps):\n",
    "        \"\"\"\n",
    "        Args:\n",
    "            exps (array): 工作年限数组(一维数组)\n",
    "        \"\"\"\n",
    "        exps = np.array(exps).reshape(-1,1)  # 一维数组变为二维数组\n",
    "        return self.model.predict(exps)"
   ]
  },
  {
   "cell_type": "code",
   "execution_count": null,
   "metadata": {},
   "outputs": [],
   "source": [
    "spmodel = SalaryPredictionModel()\n",
    "spmodel.predict([3.4,5.5])"
   ]
  }
 ],
 "metadata": {
  "kernelspec": {
   "display_name": "base",
   "language": "python",
   "name": "python3"
  },
  "language_info": {
   "name": "python",
   "version": "3.10.8"
  },
  "orig_nbformat": 4,
  "vscode": {
   "interpreter": {
    "hash": "fd16a1c2e981052eaae61151b9525ae9913f1f0d16bca6b7e7be9e0f29d739d2"
   }
  }
 },
 "nbformat": 4,
 "nbformat_minor": 2
}
