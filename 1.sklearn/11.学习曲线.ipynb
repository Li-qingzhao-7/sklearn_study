{
 "cells": [
  {
   "attachments": {},
   "cell_type": "markdown",
   "metadata": {},
   "source": [
    "**学习曲线：**\n",
    "+ 验证曲线描述的关系即是模型性能关于训练样本量大小的函数关系\n",
    "+ 模型性能 = f(训练集大小)"
   ]
  },
  {
   "cell_type": "code",
   "execution_count": null,
   "metadata": {},
   "outputs": [],
   "source": [
    "\"\"\"\n",
    "_, train_score, test_score = ms.learning_curve(\n",
    "    model,\n",
    "    输入集,输出集,\n",
    "    train_size=[0.9, 0.8, 0.7]\n",
    "    cv=5\n",
    ")\n",
    "\n",
    "返回train_score与test_score为每个超参数取值下的每次交叉验证结果组成的得分矩阵\n",
    "\"\"\""
   ]
  }
 ],
 "metadata": {
  "kernelspec": {
   "display_name": "base",
   "language": "python",
   "name": "python3"
  },
  "language_info": {
   "name": "python",
   "version": "3.10.8"
  },
  "orig_nbformat": 4,
  "vscode": {
   "interpreter": {
    "hash": "fd16a1c2e981052eaae61151b9525ae9913f1f0d16bca6b7e7be9e0f29d739d2"
   }
  }
 },
 "nbformat": 4,
 "nbformat_minor": 2
}
