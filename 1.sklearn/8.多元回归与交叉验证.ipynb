{
 "cells": [
  {
   "cell_type": "code",
   "execution_count": 2,
   "metadata": {},
   "outputs": [],
   "source": [
    "import numpy as np\n",
    "import pandas as pd\n",
    "import matplotlib.pyplot as plt"
   ]
  },
  {
   "cell_type": "code",
   "execution_count": 3,
   "metadata": {},
   "outputs": [],
   "source": [
    "from sklearn.datasets import load_iris\n",
    "\n",
    "iris = load_iris()"
   ]
  },
  {
   "cell_type": "code",
   "execution_count": 4,
   "metadata": {},
   "outputs": [],
   "source": [
    "data = pd.DataFrame(iris.data, columns=iris.feature_names)\n",
    "data['target'] = iris.target"
   ]
  },
  {
   "cell_type": "code",
   "execution_count": 5,
   "metadata": {},
   "outputs": [
    {
     "name": "stdout",
     "output_type": "stream",
     "text": [
      "0.9333333333333333\n"
     ]
    }
   ],
   "source": [
    "import sklearn.model_selection as ms\n",
    "import sklearn.linear_model as lm\n",
    "\n",
    "x, y =data.iloc[:,:-1], data['target']\n",
    "train_x, test_x, train_y, test_y = ms.train_test_split(\n",
    "    x, y, test_size=0.2, random_state=22\n",
    ")\n",
    "\n",
    "model = lm.LogisticRegression()\n",
    "model.fit(train_x,train_y)\n",
    "\n",
    "pred_lg_y = model.predict(test_x)\n",
    "# 分类评估指标 -- 准确率\n",
    "print((pred_lg_y==test_y).sum() / test_y.size)"
   ]
  },
  {
   "attachments": {},
   "cell_type": "markdown",
   "metadata": {},
   "source": [
    "**数据集划分**\n",
    "+ 基于类别 test_size占比划分"
   ]
  },
  {
   "cell_type": "code",
   "execution_count": 6,
   "metadata": {},
   "outputs": [],
   "source": [
    "import warnings\n",
    "warnings.filterwarnings('ignore')"
   ]
  },
  {
   "cell_type": "code",
   "execution_count": 7,
   "metadata": {},
   "outputs": [
    {
     "name": "stdout",
     "output_type": "stream",
     "text": [
      "0.9736842105263158\n",
      "[0 0 2 1 1 0 2 1 2 0 0 2 1 0 0 0 0 2 0 2 2 2 0 1 2 1 2 1 1 1 1 2 0 1 1 0 1\n",
      " 2]\n"
     ]
    }
   ],
   "source": [
    "# 数据集划分API\n",
    "from sklearn.model_selection import train_test_split\n",
    "train_x,test_x,train_y,test_y = train_test_split(x, y, \n",
    "                test_size=0.25, \n",
    "                random_state=22,\n",
    "                stratify=y)  # stratify按照等比例划分\n",
    "model = lm.LogisticRegression()\n",
    "model.fit(train_x,train_y)\n",
    "\n",
    "pred_lg_y = model.predict(test_x)\n",
    "# 分类评估指标 -- 准确率\n",
    "print((pred_lg_y==test_y).sum() / test_y.size)\n",
    "print(test_y.values)"
   ]
  },
  {
   "attachments": {},
   "cell_type": "markdown",
   "metadata": {},
   "source": [
    "**交叉验证**\n",
    "+ 由于数据集划分有不确定性，若随机划分的样本正好处于某类特殊样本，则可能产生偏差\n",
    "+ 需要将样本空间划分n分，多次采样训练测试，交叉验证"
   ]
  },
  {
   "cell_type": "code",
   "execution_count": 8,
   "metadata": {},
   "outputs": [],
   "source": [
    "# import sklearn.model_selection as ms\n",
    "# 指标值数组 = ms.cross_val_score(模型, 输入集, 输出集, \n",
    "#                           cv=折叠数, \n",
    "                            # scoring=指标名)"
   ]
  },
  {
   "attachments": {},
   "cell_type": "markdown",
   "metadata": {},
   "source": [
    "**交叉验证指标**\n",
    "sklearn提供的常用交叉验证指标：\n",
    "+ 精确度(*'accuracy'*)：分类正确的样本数 / 总样本数\n",
    "+ 查准率(*'precision_weighted'*)：针对每个类别，预测正确的样本数比上预测出来的样本数\n",
    "+ 召回率(*'recall_weighted'*)：针对每一个类别，预测正确的样本比上实际存在的样本数\n",
    "+ f1得分(*'f1_weighted'*)：\n",
    "    2 * 查准率 * 召回率 / (查准率 + 召回率)"
   ]
  },
  {
   "cell_type": "code",
   "execution_count": 9,
   "metadata": {},
   "outputs": [
    {
     "name": "stdout",
     "output_type": "stream",
     "text": [
      "准确度：0.9733333333333334\n",
      "查准率：0.9767676767676768\n",
      "召回率(查全率)：0.9733333333333334\n",
      "f1得分：0.973165236323131\n"
     ]
    }
   ],
   "source": [
    "# 数据集划分API\n",
    "import sklearn.model_selection as ms\n",
    "\n",
    "train_x,test_x,train_y,test_y = ms.train_test_split(x, y, \n",
    "                test_size=0.25, \n",
    "                random_state=22,\n",
    "                stratify=y)  # stratify按照等比例划分\n",
    "model = lm.LogisticRegression()  # 实例\n",
    "\n",
    "# 做5次交叉验证\n",
    "scores = ms.cross_val_score(model, x, y, cv=5, scoring='accuracy')\n",
    "print('准确度：%s' % (scores.mean()))\n",
    "scores = ms.cross_val_score(model, x, y, cv=5, scoring='precision_weighted')\n",
    "print('查准率：%s' % (scores.mean()))\n",
    "scores = ms.cross_val_score(model, x, y, cv=5, scoring='recall_weighted')\n",
    "print('召回率(查全率)：%s' % (scores.mean()))\n",
    "scores = ms.cross_val_score(model, x, y, cv=5, scoring='f1_weighted')\n",
    "print('f1得分：%s' % (scores.mean()))"
   ]
  },
  {
   "cell_type": "code",
   "execution_count": 10,
   "metadata": {},
   "outputs": [
    {
     "name": "stdout",
     "output_type": "stream",
     "text": [
      "0.9736842105263158\n",
      "[0 0 2 1 1 0 2 1 2 0 0 2 1 0 0 0 0 2 0 2 2 2 0 1 2 1 2 1 1 1 1 2 0 1 1 0 1\n",
      " 2]\n"
     ]
    }
   ],
   "source": [
    "model.fit(train_x,train_y)\n",
    "\n",
    "pred_lg_y = model.predict(test_x)\n",
    "# 分类评估指标 -- 准确率\n",
    "print((pred_lg_y==test_y).sum() / test_y.size)\n",
    "print(test_y.values)"
   ]
  },
  {
   "attachments": {},
   "cell_type": "markdown",
   "metadata": {},
   "source": [
    "**混淆矩阵**"
   ]
  },
  {
   "cell_type": "code",
   "execution_count": 11,
   "metadata": {},
   "outputs": [],
   "source": [
    "# 混淆矩阵API\n",
    "import sklearn.metrics as sm \n",
    "# 混淆矩阵 = sm.confusion_matrix(实际输出, 预测输出)"
   ]
  },
  {
   "cell_type": "code",
   "execution_count": 12,
   "metadata": {},
   "outputs": [
    {
     "name": "stdout",
     "output_type": "stream",
     "text": [
      "[[13  0  0]\n",
      " [ 0 12  1]\n",
      " [ 0  0 12]]\n"
     ]
    }
   ],
   "source": [
    "# 针对多元逻辑回归--交叉验证--评估\n",
    "m = sm.confusion_matrix(test_y, pred_lg_y)\n",
    "print(m)"
   ]
  },
  {
   "cell_type": "code",
   "execution_count": 13,
   "metadata": {},
   "outputs": [
    {
     "data": {
      "image/png": "[encoded data removed]",
      "text/plain": [
       "<Figure size 640x480 with 1 Axes>"
      ]
     },
     "metadata": {},
     "output_type": "display_data"
    }
   ],
   "source": [
    "plt.imshow(m,cmap='gray')\n",
    "plt.show()"
   ]
  },
  {
   "attachments": {},
   "cell_type": "markdown",
   "metadata": {},
   "source": [
    "**分类报告**\n",
    "+ sklearn.metrics提供了分类报告相关API，不仅可以得到混淆矩阵信息，还可以得到交叉验证查准率、召回率、f1得分等"
   ]
  },
  {
   "cell_type": "code",
   "execution_count": 14,
   "metadata": {},
   "outputs": [],
   "source": [
    "# 获取模型分类结果的分类报告相关API：\n",
    "# cr = sm.classification_report('实际输出', '预测输出')"
   ]
  },
  {
   "cell_type": "code",
   "execution_count": 15,
   "metadata": {},
   "outputs": [
    {
     "name": "stdout",
     "output_type": "stream",
     "text": [
      "              precision    recall  f1-score   support\n",
      "\n",
      "           0       1.00      1.00      1.00        13\n",
      "           1       1.00      0.92      0.96        13\n",
      "           2       0.92      1.00      0.96        12\n",
      "\n",
      "    accuracy                           0.97        38\n",
      "   macro avg       0.97      0.97      0.97        38\n",
      "weighted avg       0.98      0.97      0.97        38\n",
      "\n"
     ]
    }
   ],
   "source": [
    "print(sm.classification_report(test_y, pred_lg_y))"
   ]
  },
  {
   "attachments": {},
   "cell_type": "markdown",
   "metadata": {},
   "source": [
    "**决策树分类模型**"
   ]
  },
  {
   "cell_type": "code",
   "execution_count": 16,
   "metadata": {},
   "outputs": [
    {
     "name": "stdout",
     "output_type": "stream",
     "text": [
      "0.9473684210526315\n",
      "[0 0 2 1 1 0 2 1 2 0 0 2 1 0 0 0 0 2 0 2 2 2 0 1 2 1 2 1 1 1 1 2 0 1 1 0 1\n",
      " 2]\n"
     ]
    }
   ],
   "source": [
    "import sklearn.tree as st\n",
    "model = st.DecisionTreeClassifier(max_depth=3, min_samples_split=3)\n",
    "model.fit(train_x,train_y)\n",
    "\n",
    "pred_clt_y = model.predict(test_x)\n",
    "print((pred_clt_y==test_y).sum() / test_y.size)\n",
    "print(test_y.values)"
   ]
  }
 ],
 "metadata": {
  "kernelspec": {
   "display_name": "base",
   "language": "python",
   "name": "python3"
  },
  "language_info": {
   "codemirror_mode": {
    "name": "ipython",
    "version": 3
   },
   "file_extension": ".py",
   "mimetype": "text/x-python",
   "name": "python",
   "nbconvert_exporter": "python",
   "pygments_lexer": "ipython3",
   "version": "3.10.8"
  },
  "orig_nbformat": 4,
  "vscode": {
   "interpreter": {
    "hash": "fd16a1c2e981052eaae61151b9525ae9913f1f0d16bca6b7e7be9e0f29d739d2"
   }
  }
 },
 "nbformat": 4,
 "nbformat_minor": 2
}
