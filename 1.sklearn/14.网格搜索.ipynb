{
 "cells": [
  {
   "attachments": {},
   "cell_type": "markdown",
   "metadata": {},
   "source": [
    "**网格搜索**\n",
    "+ 获取一个最优超参数的方式可以绘制验证曲线，但是验证曲线只能每次获取一个最优超参数；如果多个超参数有很多排列组合的话，可以选择网格搜索寻求最优超参数组合\n",
    "+ 针对超参数组合列表中的每一个超参数组合，实例化给定的模型，做cv次交叉验证，将其中平均得分最高的超参数组合作为最佳选择，实例化模型对象并返回"
   ]
  },
  {
   "cell_type": "code",
   "execution_count": null,
   "metadata": {},
   "outputs": [],
   "source": [
    "# 网格搜索相关API\n",
    "import sklearn.model_selection as sm\n",
    "params = [{'kernel':['linear'], 'C':[1, 10, 100, 1000]},\n",
    "          {'kernel':['poly'], 'C':[1], 'degree':[2, 3]},\n",
    "          {'kernel':['rbf'], 'C':[1, 10, 100], 'gamma':[1, 0.1, 0.01]}]\n",
    "model = sm.GridSearchCV('模型', params, cv='交叉验证次数')\n",
    "model.fit('输入集', '输出集')\n",
    "\n",
    "# 获取网格搜索每个参数组合\n",
    "model.cv_results_['params']\n",
    "\n",
    "# 获取网格搜索每个参数组合所对应的平均测试分值\n",
    "model.cv_results_['mean_test_score']\n",
    "\n",
    "# 获取最好的参数\n",
    "model.best_params_\n",
    "model.best_score_\n",
    "model.best_estimator_"
   ]
  }
 ],
 "metadata": {
  "kernelspec": {
   "display_name": "base",
   "language": "python",
   "name": "python3"
  },
  "language_info": {
   "name": "python",
   "version": "3.10.8"
  },
  "orig_nbformat": 4,
  "vscode": {
   "interpreter": {
    "hash": "fd16a1c2e981052eaae61151b9525ae9913f1f0d16bca6b7e7be9e0f29d739d2"
   }
  }
 },
 "nbformat": 4,
 "nbformat_minor": 2
}
