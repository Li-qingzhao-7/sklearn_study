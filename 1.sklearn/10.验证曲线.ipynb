{
 "cells": [
  {
   "cell_type": "code",
   "execution_count": null,
   "metadata": {},
   "outputs": [],
   "source": [
    "# 验证曲线API\n",
    "\"\"\"\n",
    "train_scores, test_scores = ms.validation_curve(\n",
    "    model,  # 模型\n",
    "    输入集, 输出集,\n",
    "    'n_estimators',  # 超参数名\n",
    "    np.arange(50, 550, 50),  # 超参数序列\n",
    "    cv = 5  # 折叠数，交叉验证\n",
    "    )\n",
    "\"\"\""
   ]
  }
 ],
 "metadata": {
  "kernelspec": {
   "display_name": "base",
   "language": "python",
   "name": "python3"
  },
  "language_info": {
   "name": "python",
   "version": "3.10.8"
  },
  "orig_nbformat": 4,
  "vscode": {
   "interpreter": {
    "hash": "fd16a1c2e981052eaae61151b9525ae9913f1f0d16bca6b7e7be9e0f29d739d2"
   }
  }
 },
 "nbformat": 4,
 "nbformat_minor": 2
}
