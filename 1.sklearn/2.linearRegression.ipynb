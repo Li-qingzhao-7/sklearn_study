{
 "cells": [
  {
   "attachments": {},
   "cell_type": "markdown",
   "metadata": {},
   "source": [
    "# sklearn 线性回归"
   ]
  },
  {
   "cell_type": "code",
   "execution_count": null,
   "metadata": {},
   "outputs": [],
   "source": [
    "\"\"\"\n",
    "import sklearn.linear_model as lm\n",
    "# 创建模型\n",
    "model = lm.LinearRegression() \n",
    "\n",
    "# 训练模型\n",
    "# 输入为一个二维数组表示的样本矩阵\n",
    "# 输出为每个样本最终的结果\n",
    "model.fit('输入','输出')  # 通过梯度下降计算模型参数\n",
    "\n",
    "# 预测输出\n",
    "# 输入array是一个二维数组,每一行是一个样本,每一列是一个特征\n",
    "result = model.predict('array') \n",
    "\"\"\""
   ]
  },
  {
   "attachments": {},
   "cell_type": "markdown",
   "metadata": {},
   "source": [
    "**回归模型的评估指标**\n",
    "+ 线性回归模型训练完毕后，可以利用测试集评估训练结果误差"
   ]
  },
  {
   "cell_type": "code",
   "execution_count": null,
   "metadata": {},
   "outputs": [],
   "source": [
    "import sklearn.metrics as sm\n",
    "\n",
    "y,pred_y = 'real num','forecast num'\n",
    "# 平均绝对值误差：1/m∑|实际输出-预测输出|\n",
    "sm.mean_absolute_error(y,pred_y)\n",
    "\n",
    "# 平均平方误差：SQRT(1/M∑(实际输出-预测输出)^2)\n",
    "sm.mean_squared_error(y,pred_y)\n",
    "\n",
    "# 中位值绝对值误差：MEDIAN(|实际输出-预测输出|)\n",
    "sm.median_absolute_error(y,pred_y)\n",
    "\n",
    "# R2得分，(0,1]区间的分值，分数越高，误差越小\n",
    "sm.r2_score(y,pred_y)\n",
    "\n",
    "# ..."
   ]
  },
  {
   "attachments": {},
   "cell_type": "markdown",
   "metadata": {},
   "source": [
    "**模型的保存与加载**\n",
    "+ 模型训练是一个耗时过程，可以将模型保存在磁盘，也可在需要使用时从磁盘重新加载，不需要重新训练"
   ]
  },
  {
   "cell_type": "code",
   "execution_count": null,
   "metadata": {},
   "outputs": [],
   "source": [
    "\"\"\"\n",
    "import pickle\n",
    "# 将训练好的模型对象保存在磁盘文件中\n",
    "with open('../1.sklearn/data/linear.pkl','wb') as f:\n",
    "    pickle.dump(model,f)\n",
    "    \n",
    "# 从磁盘文件中加载模型对象\n",
    "with open('../1.sklearn/data/linear.pkl','rb') as f:\n",
    "    model = pickle.load(f)\n",
    "    \n",
    "# 根据输入预测输出\n",
    "pred_y = model.predict(x)\n",
    "\"\"\""
   ]
  }
 ],
 "metadata": {
  "kernelspec": {
   "display_name": "base",
   "language": "python",
   "name": "python3"
  },
  "language_info": {
   "name": "python",
   "version": "3.10.8"
  },
  "orig_nbformat": 4,
  "vscode": {
   "interpreter": {
    "hash": "fd16a1c2e981052eaae61151b9525ae9913f1f0d16bca6b7e7be9e0f29d739d2"
   }
  }
 },
 "nbformat": 4,
 "nbformat_minor": 2
}
