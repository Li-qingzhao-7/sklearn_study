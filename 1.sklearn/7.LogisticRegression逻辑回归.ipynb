{
 "cells": [
  {
   "cell_type": "code",
   "execution_count": null,
   "metadata": {},
   "outputs": [],
   "source": [
    "# 逻辑回归相关API\n",
    "from sklearn.linear_model import LogisticRegression\n",
    "\"\"\"\n",
    "构建逻辑回归器\n",
    "solver:用来指明损失函数的优化方法,sklearn自带方法:\n",
    "    liblinear:坐标轴下降法来迭代优化损失函数\n",
    "    newton-cg:牛顿法的一种\n",
    "    lbfgs:拟牛顿法\n",
    "    sag:随机平均梯度下降(适合样本量大的情况)\n",
    "    \n",
    "penalty:参数可选择的值为 'l1' 和 'l2',与solver有关\n",
    "    l1正则化,只能使用'liblinear'\n",
    "    l2正则化,所有优化算法都可用\n",
    "    \n",
    "C:该参数可以控制正则强度，值越小则正则强度越大，可以防止过拟合\n",
    "\"\"\"\n",
    "\n",
    "# model = LogisticRegression(\n",
    "#     solver='liblinear', C='正则强度')  # 构建逻辑回归模型\n",
    "# model.fit('train_x', 'train_y')\n",
    "# result = model.predict('test_x')"
   ]
  },
  {
   "cell_type": "code",
   "execution_count": 5,
   "metadata": {},
   "outputs": [],
   "source": [
    "import numpy as np\n",
    "import pandas as pd\n",
    "import matplotlib.pyplot as plt"
   ]
  },
  {
   "cell_type": "code",
   "execution_count": 6,
   "metadata": {},
   "outputs": [],
   "source": [
    "from sklearn.datasets import load_iris\n",
    "iris = load_iris()\n",
    "data = pd.DataFrame(iris.data, columns=iris.feature_names)\n",
    "data['target'] = iris.target"
   ]
  },
  {
   "cell_type": "code",
   "execution_count": 7,
   "metadata": {},
   "outputs": [
    {
     "name": "stdout",
     "output_type": "stream",
     "text": [
      "0.9333333333333333\n"
     ]
    }
   ],
   "source": [
    "import sklearn.model_selection as ms\n",
    "import sklearn.linear_model as lm\n",
    "\n",
    "x, y =data.iloc[:,:-1], data['target']\n",
    "train_x, test_x, train_y, test_y = ms.train_test_split(\n",
    "    x, y, test_size=0.2, random_state=22\n",
    ")\n",
    "\n",
    "model = lm.LogisticRegression()\n",
    "model.fit(train_x,train_y)\n",
    "\n",
    "pred_lg_y = model.predict(test_x)\n",
    "# 分类评估指标 -- 准确率\n",
    "print((pred_lg_y==test_y).sum() / test_y.size)"
   ]
  }
 ],
 "metadata": {
  "kernelspec": {
   "display_name": "base",
   "language": "python",
   "name": "python3"
  },
  "language_info": {
   "codemirror_mode": {
    "name": "ipython",
    "version": 3
   },
   "file_extension": ".py",
   "mimetype": "text/x-python",
   "name": "python",
   "nbconvert_exporter": "python",
   "pygments_lexer": "ipython3",
   "version": "3.10.8"
  },
  "orig_nbformat": 4,
  "vscode": {
   "interpreter": {
    "hash": "fd16a1c2e981052eaae61151b9525ae9913f1f0d16bca6b7e7be9e0f29d739d2"
   }
  }
 },
 "nbformat": 4,
 "nbformat_minor": 2
}
