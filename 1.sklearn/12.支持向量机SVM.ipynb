{
 "cells": [
  {
   "attachments": {},
   "cell_type": "markdown",
   "metadata": {},
   "source": [
    "**支持向量机原理：**\n",
    "+ 支持向量机任务的核心是：*寻求最优分类边界*\n",
    "有如下特性：\n",
    "1. 正确：对大部分样本可以正确划分类别\n",
    "2. 泛华：最大化支持向量间距\n",
    "3. 公平：与支持向量等距\n",
    "4. 简单：线性，直线或平面，超平面"
   ]
  },
  {
   "attachments": {},
   "cell_type": "markdown",
   "metadata": {},
   "source": [
    "**支持向量机的核函数：**\n",
    "+ SVM通过名为**核函数**的特征变换，可以增加新的特征，使得低维度空间中的线性不可分问题在高维度空间变得线性可分\n",
    "1. 线性核函数：**linear**, 不通过核函数进行维度提升，仅在原始维度空间中寻求线性分类边界\n",
    "2. 多项式核函数：**poly**, 通过多项式函数增加原始样本特征的高次方幂\n",
    "3. 径向基核函数：**rbf**, 通过高斯分布函数增加原始样本特征的分布概率"
   ]
  },
  {
   "cell_type": "code",
   "execution_count": null,
   "metadata": {},
   "outputs": [],
   "source": [
    "# 支持向量机相关API\n",
    "import sklearn.svm as svm\n",
    "train_x,train_y = None,None\n",
    "# SVM线性核函数的sklearn实现：\n",
    "model = svm.SVC(kernel='linear')\n",
    "model.fit(train_x, train_y)\n",
    "\n",
    "# SVM多项式核函数的sklearn实现：\n",
    "# 基于线性核函数的支持向量机分类器\n",
    "model = svm.SVC(kernel='poly', degree=3)  # 指定最高次方\n",
    "model.fit(train_x, train_y)\n",
    "\n",
    "# SVM径向基核函数的sklearn实现：\n",
    "# 基于径向基核函数的支持向量机分类器\n",
    "# C：正则强度\n",
    "# gamma：'rbf', 'poly'和'sigmoid'的内核系数；伽马值越高越拟合训练数据集，\n",
    "# 可能导致过拟合\n",
    "model = svm.SVC(kernel='rbf', C=600, gamma=0.01)\n",
    "model.fit(train_x, train_y)"
   ]
  }
 ],
 "metadata": {
  "kernelspec": {
   "display_name": "base",
   "language": "python",
   "name": "python3"
  },
  "language_info": {
   "name": "python",
   "version": "3.10.8"
  },
  "orig_nbformat": 4,
  "vscode": {
   "interpreter": {
    "hash": "fd16a1c2e981052eaae61151b9525ae9913f1f0d16bca6b7e7be9e0f29d739d2"
   }
  }
 },
 "nbformat": 4,
 "nbformat_minor": 2
}
