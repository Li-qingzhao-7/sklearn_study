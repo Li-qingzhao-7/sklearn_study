{
 "cells": [
  {
   "attachments": {},
   "cell_type": "markdown",
   "metadata": {},
   "source": [
    "**舆情分析**\n",
    "+ 文本情感分析又称为意见挖掘、倾向性分析等；对带有情感色彩的主观性文本进行分析、处理、归纳和推理的过程"
   ]
  },
  {
   "attachments": {},
   "cell_type": "markdown",
   "metadata": {},
   "source": [
    "*文本语义分析原理：*\n",
    "+ 针对训练文本进行分词处理，统计词频，通过词频-逆文档频率算法获得该词对样本语义的贡献，根据每个词的贡献力度，构建有监督分类学习模型，将测试样本交给模型处理，得到测试样本的情感类别"
   ]
  },
  {
   "attachments": {},
   "cell_type": "markdown",
   "metadata": {},
   "source": [
    "**文本分词**\n",
    "+ 英文分词：\n",
    "1. pip3 install nltk\n",
    "\n",
    "+ 中文分词\n",
    "1. pip3 install jieba"
   ]
  }
 ],
 "metadata": {
  "language_info": {
   "name": "python"
  },
  "orig_nbformat": 4
 },
 "nbformat": 4,
 "nbformat_minor": 2
}
