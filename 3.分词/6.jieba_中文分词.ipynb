{
 "cells": [
  {
   "attachments": {},
   "cell_type": "markdown",
   "metadata": {},
   "source": [
    "jieba提供了两种常用的分词方法：\n",
    "1. jieba.cut() 普通分词：通过cut_all=True参数来控制是否采用全模式\n",
    "2. jieba.cut_for_search() 搜索引擎分词： 该方法适合用于搜索引擎构建倒排索引的分词，粒度比较细"
   ]
  },
  {
   "attachments": {},
   "cell_type": "markdown",
   "metadata": {},
   "source": [
    "**添加自定义词典**\n",
    "+ 指定自定义词典，以便包含jieba词库中没有的词\n",
    "+ 用法：jieba.load_userdict(file_name) file_name 为文件类对象或自定义词典的路径\n",
    "+ 词典格式和 `dict.txt` 一样，一个词占一行；每一行分三部分：词语、词频（可省略）、词性（可省略），用空格隔开，保证顺序\n",
    "+ `filr_name`若为路径或二进制打开的文件，则文件必须为 UTF-8 编码\n",
    "+ 词频省略时使用自动计算的能保证分出该词的词频"
   ]
  },
  {
   "cell_type": "code",
   "execution_count": 44,
   "metadata": {},
   "outputs": [],
   "source": [
    "import numpy as np\n",
    "import jieba "
   ]
  },
  {
   "cell_type": "code",
   "execution_count": 45,
   "metadata": {},
   "outputs": [],
   "source": [
    "import warnings\n",
    "warnings.filterwarnings('ignore')"
   ]
  },
  {
   "cell_type": "code",
   "execution_count": 46,
   "metadata": {},
   "outputs": [
    {
     "data": {
      "text/plain": [
       "'我 / 来到 / 北京 / 清华 / 清华大学 / 华大 / 大学'"
      ]
     },
     "execution_count": 46,
     "metadata": {},
     "output_type": "execute_result"
    }
   ],
   "source": [
    "# 全模式 --> 但凡能进行分词的都会输出，扩展分词\n",
    "seg_list = jieba.cut(\"我来到北京清华大学\", cut_all=True)\n",
    "' / '.join(seg_list)"
   ]
  },
  {
   "cell_type": "code",
   "execution_count": 47,
   "metadata": {},
   "outputs": [
    {
     "data": {
      "text/plain": [
       "'我 / 来到 / 北京 / 清华大学'"
      ]
     },
     "execution_count": 47,
     "metadata": {},
     "output_type": "execute_result"
    }
   ],
   "source": [
    "# 精确模式 --> 不扩展-默认模式\n",
    "seg_list = jieba.cut(\"我来到北京清华大学\", cut_all=False)\n",
    "' / '.join(seg_list)"
   ]
  },
  {
   "cell_type": "code",
   "execution_count": 48,
   "metadata": {},
   "outputs": [
    {
     "data": {
      "text/plain": [
       "'小明 / 毕业 / 于 / 中国 / 科学 / 学院 / 科学院 / 中国科学院 / 研究 / 研究所 / ， / 后 / 在 / 日本 / 京都 / 大学 / 日本京都大学 / 深造'"
      ]
     },
     "execution_count": 48,
     "metadata": {},
     "output_type": "execute_result"
    }
   ],
   "source": [
    "# 搜索引擎模式 --> 细粒度扩展-召回率（查全率）\n",
    "seg_list = jieba.cut_for_search(\"小明毕业于中国科学院研究所，后在日本京都大学深造\")\n",
    "' / '.join(seg_list)"
   ]
  },
  {
   "cell_type": "code",
   "execution_count": 51,
   "metadata": {},
   "outputs": [
    {
     "data": {
      "text/plain": [
       "'乒乓球拍 / 卖完 / 了'"
      ]
     },
     "execution_count": 51,
     "metadata": {},
     "output_type": "execute_result"
    }
   ],
   "source": [
    "# 添加自定义词典\n",
    "\n",
    "jieba.load_userdict('./data/mydict.txt')\n",
    "seg_list = jieba.cut(\"乒乓球拍卖完了\", cut_all=False)\n",
    "' / '.join(seg_list)"
   ]
  },
  {
   "cell_type": "code",
   "execution_count": 52,
   "metadata": {},
   "outputs": [
    {
     "data": {
      "text/plain": [
       "'张平平 / 安全 / 到家 / 了'"
      ]
     },
     "execution_count": 52,
     "metadata": {},
     "output_type": "execute_result"
    }
   ],
   "source": [
    "seg_list = jieba.cut(\"张平平安全到家了\", cut_all=False)\n",
    "' / '.join(seg_list)"
   ]
  }
 ],
 "metadata": {
  "kernelspec": {
   "display_name": "base",
   "language": "python",
   "name": "python3"
  },
  "language_info": {
   "codemirror_mode": {
    "name": "ipython",
    "version": 3
   },
   "file_extension": ".py",
   "mimetype": "text/x-python",
   "name": "python",
   "nbconvert_exporter": "python",
   "pygments_lexer": "ipython3",
   "version": "3.10.8"
  },
  "orig_nbformat": 4,
  "vscode": {
   "interpreter": {
    "hash": "fd16a1c2e981052eaae61151b9525ae9913f1f0d16bca6b7e7be9e0f29d739d2"
   }
  }
 },
 "nbformat": 4,
 "nbformat_minor": 2
}
