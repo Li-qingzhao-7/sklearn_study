{
 "cells": [
  {
   "attachments": {},
   "cell_type": "markdown",
   "metadata": {},
   "source": [
    "**文本向量化处理**\n",
    "+ 在训练语义分析模型时，需要以每一段落为一个样本，这一段落的语义为类别标签构建训练样本集，所以需要一种算法可以把一句话(一个样本)转为一个特征向量，需要该向量通过数字表达语义"
   ]
  },
  {
   "attachments": {},
   "cell_type": "markdown",
   "metadata": {},
   "source": [
    "**词袋模型**\n",
    "+ 在训练语义分析模型时，需要以每一段落为一个样本，这一段落的语义为类别标签构建训练样本集\n",
    "+ 一句话的语义很大程度取决于某个单词出现的次数，所以可以把所有段落中所有可能出现的单词作为特征名，每一个段落为一个样本，而单词在句子中出现的次数为特征值构建样本模型，称为词袋(bow)模型"
   ]
  },
  {
   "cell_type": "code",
   "execution_count": null,
   "metadata": {},
   "outputs": [],
   "source": [
    "# 词袋模型相关API\n",
    "import sklearn.feature_extraction.text as ft\n",
    "\n",
    "# 构建词袋模型对象\n",
    "cv = ft.CountVectorizer()\n",
    "# 训练模型，把句子中所有可能出现的单词作为特征名，\n",
    "# 每一个句子为一个样本，单词在句子中出现的次数作为特征值\n",
    "# sentences:[] 将句子中可能出现的单词放入列表中\n",
    "bow = cv.fit_transform('sentences').toarray()\n",
    "print(bow)\n",
    "# 获取所有特征名\n",
    "words = cv.get_feature_names_out()"
   ]
  },
  {
   "attachments": {},
   "cell_type": "markdown",
   "metadata": {},
   "source": [
    "**词频(TF)**\n",
    "+ 一个单词在一个句子中出现的频率称为词频，即单词在句子中出现的次数除以句子的总词数。词频越高，说明单词对当前样本语义的贡献度越大(即当该单词出现，被分为相应类别的概率越大)\n",
    "+ 单词词频相比单词的出现次数可以更直观的评估单词对样本语义的贡献度"
   ]
  },
  {
   "attachments": {},
   "cell_type": "markdown",
   "metadata": {},
   "source": [
    "**文档频率(DF)与逆文档频率(IDF)**\n",
    "+ 有些词可能在大部分样本中都会出现，例如指示代词、语气助词等，而这些在大多数样本中都会出现的单词对判断样本属于哪一个类别没有什么太大作用，需要设计一个算法把这些单词贡献率降低\n",
    "1. 文档频率： DF = 含有某个单词的文档样本数 / 总文档样本数  （与样本语义贡献度反相关）\n",
    "2. 逆文档频率： IDF = log(总样本数 / (1 + 含有某个单词的样本数))  （与样本语义贡献度正相关）"
   ]
  },
  {
   "attachments": {},
   "cell_type": "markdown",
   "metadata": {},
   "source": [
    "**词频-逆文档频率(TF-IDF)**\n",
    "+ 词频矩阵中的每一个元素乘以响应单词的逆文档频率，就得到了每个单词对每个样本的词频逆文档频率值；其值越大说明该词对样本语义的贡献越大，可以根据每个词的贡献力度，构建学习模型"
   ]
  },
  {
   "cell_type": "code",
   "execution_count": null,
   "metadata": {},
   "outputs": [],
   "source": [
    "import sklearn.feature_extraction.text as ft \n",
    "# 获取词频逆文档频率(TF-IDF)矩阵相关API\n",
    "sentences = []  # 句子列表\n",
    "# 获取词袋模型\n",
    "cv = ft.CountVectorizer()\n",
    "bow = cv.fit_transform(sentences).toarray()\n",
    "# 获取TF-IDF模型训练器\n",
    "tt = ft.TfidfTransformer()\n",
    "tfidf = tt.fit_transform(bow).toarray()"
   ]
  }
 ],
 "metadata": {
  "kernelspec": {
   "display_name": "base",
   "language": "python",
   "name": "python3"
  },
  "language_info": {
   "name": "python",
   "version": "3.10.8"
  },
  "orig_nbformat": 4,
  "vscode": {
   "interpreter": {
    "hash": "fd16a1c2e981052eaae61151b9525ae9913f1f0d16bca6b7e7be9e0f29d739d2"
   }
  }
 },
 "nbformat": 4,
 "nbformat_minor": 2
}
