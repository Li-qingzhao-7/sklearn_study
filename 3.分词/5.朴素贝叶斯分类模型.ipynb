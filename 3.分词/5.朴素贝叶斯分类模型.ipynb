{
 "cells": [
  {
   "attachments": {},
   "cell_type": "markdown",
   "metadata": {},
   "source": [
    "**朴素贝叶斯分类模型**\n",
    "+ 朴素贝叶斯分类是一种依据概率理论而实现的一种分类方式"
   ]
  },
  {
   "attachments": {},
   "cell_type": "markdown",
   "metadata": {},
   "source": [
    "贝叶斯分类器相关API"
   ]
  },
  {
   "cell_type": "code",
   "execution_count": null,
   "metadata": {},
   "outputs": [],
   "source": [
    "import sklearn.naive_bayes as nb\n",
    "# 创建高斯分布朴素贝叶斯分类器\n",
    "x,y,samples =None,None,None\n",
    "model = nb.GaussianNB()\n",
    "model = nb.MultinomialNB()\n",
    "model.fit(x, y)\n",
    "result = model.predict(samples)"
   ]
  },
  {
   "attachments": {},
   "cell_type": "markdown",
   "metadata": {},
   "source": [
    "1. GaussianNB       更适合服从高斯分布的训练样本\n",
    "2. MultinomialNB    更适合服从多项分布的训练样本"
   ]
  }
 ],
 "metadata": {
  "kernelspec": {
   "display_name": "base",
   "language": "python",
   "name": "python3"
  },
  "language_info": {
   "name": "python",
   "version": "3.10.8"
  },
  "orig_nbformat": 4,
  "vscode": {
   "interpreter": {
    "hash": "fd16a1c2e981052eaae61151b9525ae9913f1f0d16bca6b7e7be9e0f29d739d2"
   }
  }
 },
 "nbformat": 4,
 "nbformat_minor": 2
}
