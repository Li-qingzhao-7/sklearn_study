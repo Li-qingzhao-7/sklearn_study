{
 "cells": [
  {
   "cell_type": "code",
   "execution_count": 96,
   "metadata": {},
   "outputs": [],
   "source": [
    "import numpy as np\n",
    "import pandas as pd\n",
    "import jieba\n",
    "import matplotlib.pyplot as plt\n",
    "import sklearn.model_selection as ms\n",
    "import sklearn.naive_bayes as nb\n",
    "import sklearn.metrics as sm\n",
    "jieba.load_userdict('./data/htl_dict.txt')"
   ]
  },
  {
   "cell_type": "code",
   "execution_count": 97,
   "metadata": {},
   "outputs": [],
   "source": [
    "import warnings\n",
    "warnings.filterwarnings('ignore')"
   ]
  },
  {
   "cell_type": "code",
   "execution_count": 98,
   "metadata": {},
   "outputs": [
    {
     "data": {
      "text/html": [
       "<div>\n",
       "<style scoped>\n",
       "    .dataframe tbody tr th:only-of-type {\n",
       "        vertical-align: middle;\n",
       "    }\n",
       "\n",
       "    .dataframe tbody tr th {\n",
       "        vertical-align: top;\n",
       "    }\n",
       "\n",
       "    .dataframe thead th {\n",
       "        text-align: right;\n",
       "    }\n",
       "</style>\n",
       "<table border=\"1\" class=\"dataframe\">\n",
       "  <thead>\n",
       "    <tr style=\"text-align: right;\">\n",
       "      <th></th>\n",
       "      <th>label</th>\n",
       "      <th>review</th>\n",
       "    </tr>\n",
       "  </thead>\n",
       "  <tbody>\n",
       "    <tr>\n",
       "      <th>0</th>\n",
       "      <td>1</td>\n",
       "      <td>距离川沙公路较近,但是公交指示不对,如果是\"蔡陆线\"的话,会非常麻烦.建议用别的路线.房间较...</td>\n",
       "    </tr>\n",
       "    <tr>\n",
       "      <th>1</th>\n",
       "      <td>1</td>\n",
       "      <td>商务大床房，房间很大，床有2M宽，整体感觉经济实惠不错!</td>\n",
       "    </tr>\n",
       "    <tr>\n",
       "      <th>2</th>\n",
       "      <td>1</td>\n",
       "      <td>早餐太差，无论去多少人，那边也不加食品的。酒店应该重视一下这个问题了。房间本身很好。</td>\n",
       "    </tr>\n",
       "  </tbody>\n",
       "</table>\n",
       "</div>"
      ],
      "text/plain": [
       "   label                                             review\n",
       "0      1  距离川沙公路较近,但是公交指示不对,如果是\"蔡陆线\"的话,会非常麻烦.建议用别的路线.房间较...\n",
       "1      1                       商务大床房，房间很大，床有2M宽，整体感觉经济实惠不错!\n",
       "2      1         早餐太差，无论去多少人，那边也不加食品的。酒店应该重视一下这个问题了。房间本身很好。"
      ]
     },
     "execution_count": 98,
     "metadata": {},
     "output_type": "execute_result"
    }
   ],
   "source": [
    "# 加载文件\n",
    "data = pd.read_csv('./data/htl_all.csv')\n",
    "data.head(3)"
   ]
  },
  {
   "cell_type": "code",
   "execution_count": 99,
   "metadata": {},
   "outputs": [
    {
     "data": {
      "text/plain": [
       "1    5322\n",
       "0    2443\n",
       "Name: label, dtype: int64"
      ]
     },
     "execution_count": 99,
     "metadata": {},
     "output_type": "execute_result"
    }
   ],
   "source": [
    "data['label'].value_counts()"
   ]
  },
  {
   "attachments": {},
   "cell_type": "markdown",
   "metadata": {},
   "source": [
    "**样本均衡化**"
   ]
  },
  {
   "cell_type": "code",
   "execution_count": 100,
   "metadata": {},
   "outputs": [],
   "source": [
    "# 下采样\n",
    "# 由于data['label']是1到0的顺序\n",
    "data = data.tail((data['label']==0).sum() * 2)"
   ]
  },
  {
   "cell_type": "code",
   "execution_count": 101,
   "metadata": {},
   "outputs": [],
   "source": [
    "def func(item):\n",
    "    # 分词，添加空格\n",
    "    seg_list = jieba.cut(item)\n",
    "    return ' '.join(seg_list)\n",
    "\n",
    "data['new_review']=data['review'].apply(func)"
   ]
  },
  {
   "cell_type": "code",
   "execution_count": 102,
   "metadata": {},
   "outputs": [
    {
     "data": {
      "text/html": [
       "<div>\n",
       "<style scoped>\n",
       "    .dataframe tbody tr th:only-of-type {\n",
       "        vertical-align: middle;\n",
       "    }\n",
       "\n",
       "    .dataframe tbody tr th {\n",
       "        vertical-align: top;\n",
       "    }\n",
       "\n",
       "    .dataframe thead th {\n",
       "        text-align: right;\n",
       "    }\n",
       "</style>\n",
       "<table border=\"1\" class=\"dataframe\">\n",
       "  <thead>\n",
       "    <tr style=\"text-align: right;\">\n",
       "      <th></th>\n",
       "      <th>label</th>\n",
       "      <th>review</th>\n",
       "      <th>new_review</th>\n",
       "    </tr>\n",
       "  </thead>\n",
       "  <tbody>\n",
       "    <tr>\n",
       "      <th>2879</th>\n",
       "      <td>1</td>\n",
       "      <td>这个酒店住过了无数次了，客观的来说是个值得推荐的酒店，曾经的服务给我留下了无比深刻的印象，除...</td>\n",
       "      <td>这个 酒店 住 过 了 无数次 了 ， 客观 的 来说 是 个 值得 推荐 的 酒店 ， 曾...</td>\n",
       "    </tr>\n",
       "    <tr>\n",
       "      <th>2880</th>\n",
       "      <td>1</td>\n",
       "      <td>这次和同事一起订的房间，我在22楼，房间明显没有同事10楼的好，下次预定一定要指定楼层了。</td>\n",
       "      <td>这次 和 同事 一起 订 的 房间 ， 我 在 22 楼 ， 房间 明显 没有 同事 10 ...</td>\n",
       "    </tr>\n",
       "    <tr>\n",
       "      <th>2881</th>\n",
       "      <td>1</td>\n",
       "      <td>没有参加过评价，但感觉很多酒店的评价不客观。这次参与一下。此酒店我个人觉得在西安应属于性价比...</td>\n",
       "      <td>没有 参加 过 评价 ， 但 感觉 很多 酒店 的 评价 不 客观 。 这次 参与 一下 。...</td>\n",
       "    </tr>\n",
       "  </tbody>\n",
       "</table>\n",
       "</div>"
      ],
      "text/plain": [
       "      label                                             review  \\\n",
       "2879      1  这个酒店住过了无数次了，客观的来说是个值得推荐的酒店，曾经的服务给我留下了无比深刻的印象，除...   \n",
       "2880      1      这次和同事一起订的房间，我在22楼，房间明显没有同事10楼的好，下次预定一定要指定楼层了。   \n",
       "2881      1  没有参加过评价，但感觉很多酒店的评价不客观。这次参与一下。此酒店我个人觉得在西安应属于性价比...   \n",
       "\n",
       "                                             new_review  \n",
       "2879  这个 酒店 住 过 了 无数次 了 ， 客观 的 来说 是 个 值得 推荐 的 酒店 ， 曾...  \n",
       "2880  这次 和 同事 一起 订 的 房间 ， 我 在 22 楼 ， 房间 明显 没有 同事 10 ...  \n",
       "2881  没有 参加 过 评价 ， 但 感觉 很多 酒店 的 评价 不 客观 。 这次 参与 一下 。...  "
      ]
     },
     "execution_count": 102,
     "metadata": {},
     "output_type": "execute_result"
    }
   ],
   "source": [
    "data.head(3)"
   ]
  },
  {
   "cell_type": "code",
   "execution_count": 103,
   "metadata": {},
   "outputs": [
    {
     "name": "stdout",
     "output_type": "stream",
     "text": [
      "0.8173838812692982\n",
      "              precision    recall  f1-score   support\n",
      "\n",
      "           0       0.87      0.87      0.87       506\n",
      "           1       0.86      0.86      0.86       472\n",
      "\n",
      "    accuracy                           0.86       978\n",
      "   macro avg       0.86      0.86      0.86       978\n",
      "weighted avg       0.86      0.86      0.86       978\n",
      "\n"
     ]
    }
   ],
   "source": [
    "import sklearn.feature_extraction.text as ft\n",
    "# 整理输入集与输出集  TFIDF\n",
    "cv = ft.CountVectorizer()\n",
    "bow = cv.fit_transform(data.new_review)\n",
    "tt = ft.TfidfTransformer()\n",
    "tfidf = tt.fit_transform(bow)\n",
    "\n",
    "# 拆分测试集与训练集\n",
    "train_x, test_x, train_y, test_y = ms.train_test_split(\n",
    "    tfidf, data.label, test_size=0.2, random_state=7\n",
    ")\n",
    "\n",
    "# 使用朴素贝叶斯\n",
    "model = nb.MultinomialNB()\n",
    "\n",
    "# 交叉验证\n",
    "scores = ms.cross_val_score(\n",
    "    model, test_x, test_y, cv=5, scoring='f1_weighted'\n",
    ")\n",
    "print(scores.mean())\n",
    "\n",
    "# 训练模型\n",
    "model.fit(train_x, train_y)\n",
    "\n",
    "# 测试模型，评估模型\n",
    "pred_test_y = model.predict(test_x)\n",
    "print(sm.classification_report(test_y, pred_test_y))"
   ]
  },
  {
   "attachments": {},
   "cell_type": "markdown",
   "metadata": {},
   "source": [
    "**查看置信概率**"
   ]
  },
  {
   "cell_type": "code",
   "execution_count": 104,
   "metadata": {},
   "outputs": [
    {
     "name": "stdout",
     "output_type": "stream",
     "text": [
      "1 -> 0.5626072795519521\n",
      "0 -> 0.8631187374183047\n",
      "1 -> 0.6173843898266396\n",
      "0 -> 0.8593407180490007\n",
      "1 -> 0.9144705740529698\n"
     ]
    }
   ],
   "source": [
    "# 新测试样本测试\n",
    "new_test_data = [\"这家酒店帮，环境棒，电视棒，空调不错，挺好的。\",\n",
    "                 \"地板脏，空调漏水，再也不来了。\",\n",
    "                 \"空调不太凉，早餐还行，但是服务差了点，总体一般。\",\n",
    "                 \"我不喜欢，非常差！\", \"哪哪都好，房间大，视野开阔，环境非常好，下次还来！\"]\n",
    "new_test_data = pd.Series(new_test_data).apply(func)\n",
    "\n",
    "# 将测试样本按照训练时的方式转换成TFIDF矩阵\n",
    "bow = cv.transform(new_test_data)\n",
    "new_test_data = tt.transform(bow)\n",
    "pred_test_y = model.predict(new_test_data)\n",
    "\n",
    "# 输出置信概率矩阵\n",
    "pred_proba_y = model.predict_proba(new_test_data)\n",
    "probas = pred_proba_y.max(axis=1)\n",
    "\n",
    "for a, b, in zip(pred_test_y,probas):\n",
    "    print(a,'->', b)\n"
   ]
  }
 ],
 "metadata": {
  "kernelspec": {
   "display_name": "base",
   "language": "python",
   "name": "python3"
  },
  "language_info": {
   "codemirror_mode": {
    "name": "ipython",
    "version": 3
   },
   "file_extension": ".py",
   "mimetype": "text/x-python",
   "name": "python",
   "nbconvert_exporter": "python",
   "pygments_lexer": "ipython3",
   "version": "3.10.8"
  },
  "orig_nbformat": 4,
  "vscode": {
   "interpreter": {
    "hash": "fd16a1c2e981052eaae61151b9525ae9913f1f0d16bca6b7e7be9e0f29d739d2"
   }
  }
 },
 "nbformat": 4,
 "nbformat_minor": 2
}
