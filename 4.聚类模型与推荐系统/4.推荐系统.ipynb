{
 "cells": [
  {
   "attachments": {},
   "cell_type": "markdown",
   "metadata": {},
   "source": [
    "**基于协同过滤的推荐**\n",
    "+ 基于用户的协同过滤推荐（User-Based CF）：其本质就是`计算用户之间的相似度`，然后获取与目标用户相似度较高的用户，并将其交互物品中评分较高的推荐给目标用户\n",
    "+ 基于物品的协同过滤推荐（Item-Based CF）：其本质就是`计算物品之间的相似度`，然后获取与目标用户交互物品相似度较高的物品，并将其推荐给目标用户"
   ]
  }
 ],
 "metadata": {
  "kernelspec": {
   "display_name": "base",
   "language": "python",
   "name": "python3"
  },
  "language_info": {
   "name": "python",
   "version": "3.10.8"
  },
  "orig_nbformat": 4,
  "vscode": {
   "interpreter": {
    "hash": "fd16a1c2e981052eaae61151b9525ae9913f1f0d16bca6b7e7be9e0f29d739d2"
   }
  }
 },
 "nbformat": 4,
 "nbformat_minor": 2
}
