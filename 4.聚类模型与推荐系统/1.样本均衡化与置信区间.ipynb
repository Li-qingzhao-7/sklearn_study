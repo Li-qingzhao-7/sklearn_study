{
 "cells": [
  {
   "attachments": {},
   "cell_type": "markdown",
   "metadata": {},
   "source": [
    "**样本类别均衡化**\n",
    "+ 模型训练过程中由于样本类别数量不均衡，将导致模型会偏向样本数量较多的类别，保证该类别的召回率。但这样会影响其他类别的预测效果，可以采用上采样与下采样的方式进行样本处理\n",
    "1. 上采样：把样本数据量小的那一类样本增加到与数据量大的那一类样本数量相近\n",
    "2. 下采样：把样本数据量大的那一类样本减少到与数据量小的那一类样本数量相近"
   ]
  },
  {
   "attachments": {},
   "cell_type": "markdown",
   "metadata": {},
   "source": [
    "除了上述方案外，sklearn还为多数模型提供了class_weight参数来实现样本类别均衡化设置"
   ]
  },
  {
   "cell_type": "code",
   "execution_count": null,
   "metadata": {},
   "outputs": [],
   "source": [
    "import sklearn.svm as svm\n",
    "\n",
    "train_x, train_y = None, None\n",
    "model = svm.SVC(\n",
    "    kernel='linear', class_weight='balanced'\n",
    ")  # class_weight='balanced' 类别权重=均衡处理\n",
    "model.fit(train_x, train_y)\n",
    "\n",
    "# 还可如下设置\n",
    "class_weight={0:0.9, 1:0.1}"
   ]
  },
  {
   "attachments": {},
   "cell_type": "markdown",
   "metadata": {},
   "source": [
    "**置信概率**\n",
    "+ 用于估测样本属于某类别的可信程度\n",
    "+ 不同的模型，置信概率的算法也不同，该值可以作为估测可信程度的指标"
   ]
  },
  {
   "attachments": {},
   "cell_type": "markdown",
   "metadata": {},
   "source": [
    "sklearn为多数分类模型提供了predict_proba()方法来获取置信概率"
   ]
  },
  {
   "cell_type": "code",
   "execution_count": null,
   "metadata": {},
   "outputs": [],
   "source": [
    "# 在获取模型时，给出超参数probability=True\n",
    "model = svm.SVC(kernel='rbf', C=600,\n",
    "                gamma=0.01, probability=True)\n",
    "# probability 可能的，大概率的\n",
    "# proba 大概，或许，可能的\n",
    "# 调用model.predict_proba(样本矩阵)可以获取每个样本的置信概率矩阵\n",
    "# 置信概率矩阵 = model.predict_proba(输入样本矩阵)"
   ]
  }
 ],
 "metadata": {
  "kernelspec": {
   "display_name": "base",
   "language": "python",
   "name": "python3"
  },
  "language_info": {
   "name": "python",
   "version": "3.10.8"
  },
  "orig_nbformat": 4,
  "vscode": {
   "interpreter": {
    "hash": "fd16a1c2e981052eaae61151b9525ae9913f1f0d16bca6b7e7be9e0f29d739d2"
   }
  }
 },
 "nbformat": 4,
 "nbformat_minor": 2
}
