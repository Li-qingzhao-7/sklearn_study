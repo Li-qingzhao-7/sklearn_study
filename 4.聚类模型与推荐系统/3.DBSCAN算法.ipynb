{
 "cells": [
  {
   "attachments": {},
   "cell_type": "markdown",
   "metadata": {},
   "source": [
    "**轮廓系数**\n",
    "+ 轮廓系数是用于评估聚类效果的指标。好的聚类具备内密外疏的特点，同一个聚类内部的样本要足够密集，不同聚类之间样本要足够疏远\n",
    "+ 轮廓系数计算规则：针对样本空间中的一个特定样本，计算它与所在聚类其他样本的平均距离a，以及该样本与距离最近的另一个聚类中所有样本的平均距离b，该样本的轮廓系数为：(b-1)/max(a,b)。将整个样本空间中所有样本的轮廓系数取算数平均值，作为聚类划分的性能指标s\n",
    "+ 轮廓系数的区间为：[-1, 1]。-1代表分类效果差，1代表聚类效果好。0代表聚类重叠，没有很好的划分聚类"
   ]
  },
  {
   "attachments": {},
   "cell_type": "markdown",
   "metadata": {},
   "source": [
    "**轮廓系数相关API**"
   ]
  },
  {
   "cell_type": "code",
   "execution_count": null,
   "metadata": {},
   "outputs": [],
   "source": [
    "import sklearn.metrics as sm\n",
    "# V：平均轮廓系数\n",
    "# silhouette 轮廓\n",
    "# metric：距离算法：使用欧氏距离(euclidean)\n",
    "V = sm.silhouette_score('输入集', '输出集',\n",
    "                        sample_size='样本数',\n",
    "                        metric='距离算法')  # euclidean"
   ]
  },
  {
   "attachments": {},
   "cell_type": "markdown",
   "metadata": {},
   "source": [
    "**DBSCAN算法**"
   ]
  },
  {
   "attachments": {},
   "cell_type": "markdown",
   "metadata": {},
   "source": [
    "**DBSCAN聚类算法原理**\n",
    "+ 从样本空间中任意选择一个样本，以事先给定的半径做圆，凡被该圆圈中的样本都视为与该样本处于相同的聚类，以这些被圈中的样本为圆心继续做圆，重复以上流程，不断扩大被圈中样本的规模，直到再也没有新的样本加入为止，至此即得到一个聚类，于剩余样本中，重复以上流程，直到耗尽样本空间中的所有样本为止"
   ]
  },
  {
   "attachments": {},
   "cell_type": "markdown",
   "metadata": {},
   "source": [
    "**DBSCAN算法特点**\n",
    "+ 事先给定的半径会影响最后的聚类效果，可以借助轮廓系数选择较优的方案\n",
    "+ 根据聚类的形成过程，把样本细分为以下三类：\n",
    "    1. `外周样本：`被其他样本聚集到某个聚类中，但无法在引入新样本的样本\n",
    "    2. `孤立样本：`聚类中的样本数低于所设定的下限，则不称其为聚类，反之称其为孤立样本\n",
    "    3. `核心样本：`除了外周样本和孤立样本以外的样本"
   ]
  },
  {
   "attachments": {},
   "cell_type": "markdown",
   "metadata": {},
   "source": [
    "**sklearn中的DBSCAN算法API**"
   ]
  },
  {
   "cell_type": "code",
   "execution_count": null,
   "metadata": {},
   "outputs": [],
   "source": [
    "# DBSCAN聚类器\n",
    "# eps：半径\n",
    "# min_samples：聚\n",
    "# 类样本数的下限，若低于该数值，则称为孤立样本\n",
    "import sklearn.cluster as sc\n",
    "epsilon, x = None, None  # epsilon 半径\n",
    "model = sc.DBSCAN(eps=epsilon, min_samples=5)\n",
    "model.fit(x)\n",
    "model.core_sample_indices_  # 核心样本下标\n",
    "# 训练完成后孤立样本的类别标签是-1\n",
    "# 既不是核心样本，又不是孤立样本就是外周样本"
   ]
  }
 ],
 "metadata": {
  "kernelspec": {
   "display_name": "base",
   "language": "python",
   "name": "python3"
  },
  "language_info": {
   "name": "python",
   "version": "3.10.8"
  },
  "orig_nbformat": 4,
  "vscode": {
   "interpreter": {
    "hash": "fd16a1c2e981052eaae61151b9525ae9913f1f0d16bca6b7e7be9e0f29d739d2"
   }
  }
 },
 "nbformat": 4,
 "nbformat_minor": 2
}
