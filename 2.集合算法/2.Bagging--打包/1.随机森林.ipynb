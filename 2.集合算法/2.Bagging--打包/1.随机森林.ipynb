{
 "cells": [
  {
   "attachments": {},
   "cell_type": "markdown",
   "metadata": {},
   "source": [
    "**自助聚合**\n",
    "+ 从总样本矩阵中以有放回抽样的方式随机抽取部分样本构建决策树，形成多棵包含不同训练样本的决策树，削弱强势样本影响，提高泛化能力\n",
    "+ 有放回模式改变了总样本空间分布，导致偏差，同时不被抽样的概率为0.368"
   ]
  },
  {
   "attachments": {},
   "cell_type": "markdown",
   "metadata": {},
   "source": [
    "**随机森林**\n",
    "+ 在自助聚合的基础上，每次构建决策树模型时，不仅随机选择部分样本，而且随机选择部分特征，这样的集合算法，不仅规避了强势样本对预测结果的影响，而且也削弱了强势特征的影响，使得模型的预测能力更加泛华"
   ]
  },
  {
   "cell_type": "code",
   "execution_count": null,
   "metadata": {},
   "outputs": [],
   "source": [
    "# 随机森林相关API\n",
    "import sklearn.ensemble as se\n",
    "\n",
    "# 随机森林回归模型（属于集合算法的一种）\n",
    "# min_samples_split：子表中最小样本数，若小于这个数字，则不再继续拆分\n",
    "model = se.RandomForestRegressor(max_depth=7,\n",
    "                                 n_estimators=300,\n",
    "                                 min_samples_split=3)  "
   ]
  }
 ],
 "metadata": {
  "kernelspec": {
   "display_name": "base",
   "language": "python",
   "name": "python3"
  },
  "language_info": {
   "name": "python",
   "version": "3.10.8"
  },
  "orig_nbformat": 4,
  "vscode": {
   "interpreter": {
    "hash": "fd16a1c2e981052eaae61151b9525ae9913f1f0d16bca6b7e7be9e0f29d739d2"
   }
  }
 },
 "nbformat": 4,
 "nbformat_minor": 2
}
