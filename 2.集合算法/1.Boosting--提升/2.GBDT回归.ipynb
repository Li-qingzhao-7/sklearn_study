{
 "cells": [
  {
   "attachments": {},
   "cell_type": "markdown",
   "metadata": {},
   "source": [
    "**GBDT回归**\n",
    "+ Gradient Boosting Decision Tree --> 梯度提升树\n",
    "1. 通过多轮迭代，每轮迭代产生一个弱回归器，每个回归器在上一轮回归器的**残差**基础上进行训练。\n",
    "2. 基于预测结果的残差设计损失函数，训练过程即是求该损失函数最小值的过程\n",
    "\n",
    "*残差 在数理统计中是指实际观察值与估计值（拟合值）之间的差*\n"
   ]
  },
  {
   "cell_type": "code",
   "execution_count": null,
   "metadata": {},
   "outputs": [],
   "source": [
    "# GBDT回归相关API\n",
    "import sklearn.ensemble as se  # 集合模块\n",
    "import sklearn.metrics as sm  # 评估模块\n",
    "# 基于决策树的梯度提升树\n",
    "model = se.GradientBoostingRegressor(\n",
    "    max_depth=4, n_estimators=100, random_state=22,min_samples_split=5\n",
    ")\n",
    "\n",
    "# 训练模型\n",
    "model.fit('train_x', 'train_y')\n",
    "\n",
    "# 测试模型\n",
    "pred_y = model.predict('test_x')\n",
    "sm.r2_score('test_y', pred_y)"
   ]
  }
 ],
 "metadata": {
  "kernelspec": {
   "display_name": "base",
   "language": "python",
   "name": "python3"
  },
  "language_info": {
   "codemirror_mode": {
    "name": "ipython",
    "version": 3
   },
   "file_extension": ".py",
   "mimetype": "text/x-python",
   "name": "python",
   "nbconvert_exporter": "python",
   "pygments_lexer": "ipython3",
   "version": "3.10.8"
  },
  "orig_nbformat": 4,
  "vscode": {
   "interpreter": {
    "hash": "fd16a1c2e981052eaae61151b9525ae9913f1f0d16bca6b7e7be9e0f29d739d2"
   }
  }
 },
 "nbformat": 4,
 "nbformat_minor": 2
}
