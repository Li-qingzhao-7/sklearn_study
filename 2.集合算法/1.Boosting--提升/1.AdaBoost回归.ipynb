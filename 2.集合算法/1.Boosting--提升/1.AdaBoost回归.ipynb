{
 "cells": [
  {
   "attachments": {},
   "cell_type": "markdown",
   "metadata": {},
   "source": [
    "**AdaBoost回归**\n",
    "+ 首先为样本矩阵中的样本随机分配初始权重，由此构建一颗带有权重的决策树，在由该决策树提供预测输出时，通过加权平均方式产生预测值，将训练样本代入模型，预测输出；对误差大的样本，提高权重，形成第二棵决策树，重复构建出不同权重的若干棵决策树\n",
    "+ 最终由得到的这些决策树一同对未知输出的样本进行预测，通过平均方式产生预测值"
   ]
  },
  {
   "cell_type": "code",
   "execution_count": null,
   "metadata": {},
   "outputs": [],
   "source": [
    "# AdaBoost相关API\n",
    "import sklearn.tree as st\n",
    "import sklearn.ensemble as se\n",
    "\n",
    "# model：决策树模型（一棵）\n",
    "model = st.DecisionTreeRegressor(max_depth=4)  # 回归树\n",
    "\n",
    "# 自适应增强决策树回归模型\n",
    "# n_estimators：构建多棵不同权重的决策树，训练模型\n",
    "model = se.AdaBoostRegressor(model,  # 正向激励回归模型\n",
    "                             n_estimators=200, \n",
    "                             random_state=7)\n",
    "\n",
    "# 训练模型\n",
    "# model.fit(train_x,train_y)\n",
    "\n",
    "# 测试模型\n",
    "# pred_y = model.predict(test_x)"
   ]
  },
  {
   "attachments": {},
   "cell_type": "markdown",
   "metadata": {},
   "source": [
    "**特征重要性**\n",
    "+ 作为决策树模型训练过程中的副产品，决策树划分子表时所使用特征的先后顺序也标志了相应特征的重要程度，此即为该特征重要性指标\n",
    "+ feature_importances_"
   ]
  },
  {
   "cell_type": "code",
   "execution_count": null,
   "metadata": {},
   "outputs": [],
   "source": [
    "# model.fit(train_x,train_y)\n",
    "fi = model.feature_importances_"
   ]
  }
 ],
 "metadata": {
  "kernelspec": {
   "display_name": "base",
   "language": "python",
   "name": "python3"
  },
  "language_info": {
   "name": "python",
   "version": "3.10.8"
  },
  "orig_nbformat": 4,
  "vscode": {
   "interpreter": {
    "hash": "fd16a1c2e981052eaae61151b9525ae9913f1f0d16bca6b7e7be9e0f29d739d2"
   }
  }
 },
 "nbformat": 4,
 "nbformat_minor": 2
}
